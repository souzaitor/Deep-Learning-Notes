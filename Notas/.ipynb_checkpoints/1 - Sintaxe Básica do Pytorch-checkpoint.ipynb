{
 "cells": [
  {
   "cell_type": "markdown",
   "metadata": {},
   "source": [
    "[![Open In Colab](https://colab.research.google.com/assets/colab-badge.svg)](https://githubtocolab.com/souzaitor/Deep-Learning-Notes/blob/main/Notas/1%20-%20Sintaxe%20b%C3%A1sica%20do%20Pytorch.ipynb)"
   ]
  },
  {
   "cell_type": "markdown",
   "metadata": {},
   "source": [
    "# Tensores"
   ]
  },
  {
   "cell_type": "markdown",
   "metadata": {},
   "source": [
    "Tensores são entidades geométricas introduzidas na matemática e na física. Na matemática, os nd-array são chamados **Tensores**. Por convenção, nos frameworks de Machine Learning as estruturas são todas chamadas de Tensores.\n",
    "\n",
    "|  Dimensões | Computação  | Matemática | Framework |\n",
    "|---|---|---|---|\n",
    "| 0 |  Número | Escalar | Tensor 0d |\n",
    "| 1 |  Array | Vetor |Tensor 1d |  \n",
    "| 2 |  Array 2d | Matriz |Tensor 2d |\n",
    "| 3 |  Array 3d | Tensor 3d | Tensor 3d |\n",
    "| ... | ...  | ... |... |\n",
    "| n |  Array nd | Tensor nd |Tensor nd |\n"
   ]
  },
  {
   "cell_type": "markdown",
   "metadata": {
    "colab_type": "text",
    "id": "c25hqijfflPT"
   },
   "source": [
    "# Sintaxe Básica do Pytorch\n",
    "\n",
    "Assim como o NumPy, o Pytorch é uma biblioteca de processamento vetorial/matricial/tensorial. Operações sobre os tensores do Pytorch possuem sintaxe consideravelmente parecida com operações sobre tensores do NumPy.\n",
    "\n",
    "Para mais informações sobre tensores em PyTorch, consulte a documentação: [torch.Tensor](https://pytorch.org/docs/stable/tensors.html)\n",
    "\n"
   ]
  },
  {
   "cell_type": "markdown",
   "metadata": {
    "colab_type": "text",
    "id": "pIHvu_8afoi2"
   },
   "source": [
    "## Tipos de Tensores \n",
    "\n",
    "Você pode criar tensores do PyTorch de inúmeras formas! Vamos ver primeiro os tipos de tensores que estão ao nosso dispor. Para isso, vamos converter listas comuns do Python em tensors do PyTorch.\n",
    "\n",
    "Note que a impressão de tensores dos tipos ```float32``` e ```int64``` não vêm acompanhadas do parâmetro de tipo ```dtype```, visto que se tratam dos tipos padrão trabalhados pelo PyTorch."
   ]
  },
  {
   "cell_type": "code",
   "execution_count": 6,
   "metadata": {
    "colab": {},
    "colab_type": "code",
    "id": "hnOEg66FjD2F"
   },
   "outputs": [
    {
     "name": "stdout",
     "output_type": "stream",
     "text": [
      "torch.float32\n",
      "tensor([[1., 2., 3.],\n",
      "        [4., 5., 6.]])\n",
      "\n",
      "torch.float64\n",
      "tensor([[1., 2., 3.],\n",
      "        [4., 5., 6.]], dtype=torch.float64)\n",
      "\n",
      "torch.int64\n",
      "tensor([[1, 2, 3],\n",
      "        [4, 5, 6]])\n"
     ]
    }
   ],
   "source": [
    "import torch\n",
    "\n",
    "# Contruir um Tensor a Partir de uma lista do Python\n",
    "# Inicializado como tipo float32\n",
    "lista = [ [1,2,3],\n",
    "          [4,5,6] ]\n",
    "\n",
    "tns = torch.Tensor(lista)\n",
    "print(tns.dtype)\n",
    "print(tns)\n",
    "\n",
    "# Contruir um Tensor a Partir de uma lista do Python\n",
    "# Inicializado como tipo float64\n",
    "print('')\n",
    "tns = torch.DoubleTensor(lista)\n",
    "print(tns.dtype)\n",
    "print(tns)\n",
    "\n",
    "# Contruir um Tensor a Partir de uma lista do Python\n",
    "# Inicializado como tipo int64\n",
    "print('')\n",
    "tns = torch.LongTensor(lista)\n",
    "print(tns.dtype)\n",
    "print(tns)"
   ]
  },
  {
   "cell_type": "markdown",
   "metadata": {
    "colab_type": "text",
    "id": "gxA-fH8bq_fQ"
   },
   "source": [
    "## Outras Formas de Instanciar Tensores\n",
    "\n",
    "### A partir de Arrays Numpy\n",
    "```torch.from_numpy()```"
   ]
  },
  {
   "cell_type": "code",
   "execution_count": 8,
   "metadata": {
    "colab": {},
    "colab_type": "code",
    "id": "eNxZ-rMHq-xd"
   },
   "outputs": [
    {
     "name": "stdout",
     "output_type": "stream",
     "text": [
      "[[0 0 0 0]\n",
      " [0 0 0 0]\n",
      " [0 0 0 0]]\n",
      "int32\n",
      "\n",
      "tensor([[0, 0, 0, 0],\n",
      "        [0, 0, 0, 0],\n",
      "        [0, 0, 0, 0]], dtype=torch.int32)\n",
      "torch.int32\n"
     ]
    }
   ],
   "source": [
    "import numpy as np\n",
    "\n",
    "# Contruir um Tensor a Partir de um Array Numpy\n",
    "# Preserva o tipa do array\n",
    "arr = np.random.rand(3,4)\n",
    "arr = arr.astype(int)\n",
    "print(arr)\n",
    "print(arr.dtype)\n",
    "\n",
    "# Contruir um Tensor a Partir de um Array Numpy\n",
    "# Preserva o tipa do array\n",
    "print('')\n",
    "tns = torch.from_numpy(arr)\n",
    "print(tns)\n",
    "print(tns.dtype)"
   ]
  },
  {
   "cell_type": "markdown",
   "metadata": {
    "colab_type": "text",
    "id": "7QC4F0AqkpPb"
   },
   "source": [
    "### Tensores Inicializados\n",
    "Essas funções recebem como parâmetro o tamanho de cada dimensão do tensor. Aqui vamos conhecer as seguintes funções:\n",
    "\n",
    "```torch.ones()```: Cria um tensor preenchido com zeros.\n",
    "\n",
    "```torch.zeros()```: Cria um tensor preenchido com uns.\n",
    "\n",
    "```torch.randn()``` -: Cria um tensor preenchido com números aleatórios a partir de uma distribuição normal."
   ]
  },
  {
   "cell_type": "code",
   "execution_count": 10,
   "metadata": {
    "colab": {},
    "colab_type": "code",
    "id": "mZ0kLNgtko5O"
   },
   "outputs": [
    {
     "name": "stdout",
     "output_type": "stream",
     "text": [
      "tensor([[1., 1., 1.],\n",
      "        [1., 1., 1.]])\n",
      "tensor([[0., 0., 0., 0., 0.],\n",
      "        [0., 0., 0., 0., 0.],\n",
      "        [0., 0., 0., 0., 0.]])\n",
      "tensor([[-0.0902, -0.2478,  1.3952],\n",
      "        [-0.0210, -0.4433,  0.6450],\n",
      "        [-1.0878,  0.6342,  1.1604]])\n"
     ]
    }
   ],
   "source": [
    "tns1 = torch.ones(2, 3)\n",
    "tns0 = torch.zeros(3, 5)\n",
    "tnsr = torch.randn(3, 3)\n",
    "\n",
    "print(tns1)\n",
    "print(tns0)\n",
    "print(tnsr)"
   ]
  },
  {
   "cell_type": "markdown",
   "metadata": {
    "colab_type": "text",
    "id": "lf9piGFVnx6m"
   },
   "source": [
    "### Tensor para Array Numpy"
   ]
  },
  {
   "cell_type": "code",
   "execution_count": 11,
   "metadata": {
    "colab": {},
    "colab_type": "code",
    "id": "FLGt-iw2n3Za"
   },
   "outputs": [
    {
     "name": "stdout",
     "output_type": "stream",
     "text": [
      "[[-0.09020393 -0.24776545  1.3952247 ]\n",
      " [-0.02103696 -0.44328243  0.6449748 ]\n",
      " [-1.0878344   0.6342058   1.1603959 ]]\n"
     ]
    }
   ],
   "source": [
    "# Converte o Tensor para Array Numpy\n",
    "arr = tnsr.data.numpy()\n",
    "print(arr)"
   ]
  },
  {
   "cell_type": "markdown",
   "metadata": {
    "colab_type": "text",
    "id": "X07bm9KBnMtA"
   },
   "source": [
    "## Indexação\n",
    "\n",
    "De posse dessa informação, a indexação é feita de forma similar a arrays Numpy, através da sintaxe de colchetes ```[]```."
   ]
  },
  {
   "cell_type": "code",
   "execution_count": 16,
   "metadata": {
    "colab": {},
    "colab_type": "code",
    "id": "c8jRdxHTpCN0"
   },
   "outputs": [
    {
     "name": "stdout",
     "output_type": "stream",
     "text": [
      "[1.3952247 0.6449748]\n",
      "-0.247765451669693\n"
     ]
    }
   ],
   "source": [
    "print(tnsr[0:2, 2].data.numpy())\n",
    "\n",
    "print(tnsr[0, 1].item())"
   ]
  },
  {
   "cell_type": "markdown",
   "metadata": {
    "colab_type": "text",
    "id": "EzGW3gVTqK4y"
   },
   "source": [
    "## Operações com Tensores\n",
    "\n",
    "A função ```.item()``` utilizada anteriormente extrai o número de um tensor que possui um único valor, permitindo realizar as operações numéricas do Python. Caso o item não seja extraído, operações que envolvam tensores vão retornar novos tensores.\n",
    "\n",
    "Vale ressaltar também que operações entre tensores são realizadas **ponto a ponto**, operando cada elemento ```(i, j)``` do tensor ```t1```, com o elemento ```(i, j)``` do tensor ```t2```."
   ]
  },
  {
   "cell_type": "code",
   "execution_count": 22,
   "metadata": {
    "colab": {},
    "colab_type": "code",
    "id": "vuQTTUf6QiY0"
   },
   "outputs": [
    {
     "name": "stdout",
     "output_type": "stream",
     "text": [
      "tensor([[[ 0.8063, -0.2315,  1.2814],\n",
      "         [ 1.0736, -0.5131, -0.8750]],\n",
      "\n",
      "        [[ 2.7241, -1.1978, -0.9529],\n",
      "         [ 0.7089,  0.5160,  1.1333]]])\n",
      "tensor([[[1., 1., 1.],\n",
      "         [1., 1., 1.]],\n",
      "\n",
      "        [[1., 1., 1.],\n",
      "         [1., 1., 1.]]])\n",
      "\n",
      "Soma de Tensores\n",
      "tensor([[[ 1.8063,  0.7685,  2.2814],\n",
      "         [ 2.0736,  0.4869,  0.1250]],\n",
      "\n",
      "        [[ 3.7241, -0.1978,  0.0471],\n",
      "         [ 1.7089,  1.5160,  2.1333]]])\n",
      "\n",
      "Multiplicação de Tensores\n",
      "tensor([[[ 0.8063, -0.2315,  1.2814],\n",
      "         [ 1.0736, -0.5131, -0.8750]],\n",
      "\n",
      "        [[ 2.7241, -1.1978, -0.9529],\n",
      "         [ 0.7089,  0.5160,  1.1333]]])\n",
      "\n",
      "Subtração de Tensores\n",
      "tensor([[[-0.1937, -1.2315,  0.2814],\n",
      "         [ 0.0736, -1.5131, -1.8750]],\n",
      "\n",
      "        [[ 1.7241, -2.1978, -1.9529],\n",
      "         [-0.2911, -0.4840,  0.1333]]])\n",
      "\n",
      "Divisão de Tensores\n",
      "tensor([[[ 0.8063, -0.2315,  1.2814],\n",
      "         [ 1.0736, -0.5131, -0.8750]],\n",
      "\n",
      "        [[ 2.7241, -1.1978, -0.9529],\n",
      "         [ 0.7089,  0.5160,  1.1333]]])\n"
     ]
    }
   ],
   "source": [
    "tns1 = torch.randn(2,2,3)\n",
    "tns2 = torch.ones(2,2,3)\n",
    "\n",
    "print(tns1)\n",
    "print(tns2)\n",
    "\n",
    "# Soma de Tensores\n",
    "print('\\nSoma de Tensores')\n",
    "print(tns1+tns2)\n",
    "\n",
    "# Multiplicação de Tensores\n",
    "print('\\nMultiplicação de Tensores')\n",
    "print(tns1*tns2)\n",
    "\n",
    "# Subtração de Tensores\n",
    "print('\\nSubtração de Tensores')\n",
    "print(tns1-tns2)\n",
    "\n",
    "# Divisão de Tensores\n",
    "print('\\nDivisão de Tensores')\n",
    "print(tns1/tns2)"
   ]
  },
  {
   "cell_type": "markdown",
   "metadata": {
    "colab_type": "text",
    "id": "f-N_PETWtMZ7"
   },
   "source": [
    "## Função ```.size()``` e ```.view()```\n",
    "\n",
    "Uma operações **importantíssima** na manipulação de tensores para Deep Learning é a reorganização das suas dimensões. Dessa forma podemos, por exemplo, **linearizar um tensor n-dimensional**."
   ]
  },
  {
   "cell_type": "code",
   "execution_count": 25,
   "metadata": {
    "colab": {},
    "colab_type": "code",
    "id": "CKgCe5brte2L"
   },
   "outputs": [
    {
     "name": "stdout",
     "output_type": "stream",
     "text": [
      "torch.Size([2, 2, 3])\n",
      "tensor([[1., 1., 1., 1., 1., 1.],\n",
      "        [1., 1., 1., 1., 1., 1.]])\n"
     ]
    }
   ],
   "source": [
    "print(tns2.size())\n",
    "\n",
    "# Redimensionar o Tensor\n",
    "# Indexação negativa achata o Tensor\n",
    "print(tns2.view(tns2.size(0), -1))"
   ]
  },
  {
   "cell_type": "markdown",
   "metadata": {
    "colab_type": "text",
    "id": "0o4_LzQoz0Ti"
   },
   "source": [
    "## GPU Cast\n",
    "\n",
    "Para que o seu script dê suporte a infraestruturas com e sem GPU, é importante definir o dispositivo no início do seu código de acordo com a verificação apresentada a seguir. Essa definição de dispositivo será utilizada toda vez que precisarmos subir valores na GPU, como os pesos da rede, os gradientes, etc."
   ]
  },
  {
   "cell_type": "code",
   "execution_count": 26,
   "metadata": {
    "colab": {
     "base_uri": "https://localhost:8080/",
     "height": 122
    },
    "colab_type": "code",
    "executionInfo": {
     "elapsed": 6690,
     "status": "ok",
     "timestamp": 1571694690168,
     "user": {
      "displayName": "Camila Laranjeira",
      "photoUrl": "https://lh3.googleusercontent.com/a-/AAuE7mCfgXxjTVPyGE0vH1sGz0gI39poyLbeKld6jeGHhEg=s64",
      "userId": "03895474106233302954"
     },
     "user_tz": 180
    },
    "id": "uePyYun4z1u3",
    "outputId": "2e6b9822-54ed-4c91-ce1a-cfa1f81a4ccb"
   },
   "outputs": [
    {
     "name": "stdout",
     "output_type": "stream",
     "text": [
      "cpu\n",
      "tensor([[[1., 1., 1.],\n",
      "         [1., 1., 1.]],\n",
      "\n",
      "        [[1., 1., 1.],\n",
      "         [1., 1., 1.]]])\n"
     ]
    }
   ],
   "source": [
    "if torch.cuda.is_available():\n",
    "  device = torch.device('cuda')\n",
    "else:\n",
    "  device = torch.device('cpu')\n",
    "  \n",
    "print(device)\n",
    "tns2 = tns2.to(device)\n",
    "print(tns2)"
   ]
  }
 ],
 "metadata": {
  "accelerator": "GPU",
  "colab": {
   "collapsed_sections": [],
   "name": "Sintaxe do Pytorch",
   "provenance": []
  },
  "kernelspec": {
   "display_name": "Python 3 (ipykernel)",
   "language": "python",
   "name": "python3"
  },
  "language_info": {
   "codemirror_mode": {
    "name": "ipython",
    "version": 3
   },
   "file_extension": ".py",
   "mimetype": "text/x-python",
   "name": "python",
   "nbconvert_exporter": "python",
   "pygments_lexer": "ipython3",
   "version": "3.9.6"
  }
 },
 "nbformat": 4,
 "nbformat_minor": 4
}
